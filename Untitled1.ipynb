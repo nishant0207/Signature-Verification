{
  "cells": [
    {
      "cell_type": "code",
      "execution_count": 1,
      "metadata": {
        "colab": {
          "base_uri": "https://localhost:8080/"
        },
        "id": "FVKdIoCwT5yw",
        "outputId": "89767353-b877-4dd7-9f5b-8098e11d34ec"
      },
      "outputs": [
        {
          "name": "stdout",
          "output_type": "stream",
          "text": [
            "Requirement already satisfied: scikit-image in ./venv/lib/python3.13/site-packages (0.25.2)\n",
            "Requirement already satisfied: numpy>=1.24 in ./venv/lib/python3.13/site-packages (from scikit-image) (2.2.3)\n",
            "Requirement already satisfied: scipy>=1.11.4 in ./venv/lib/python3.13/site-packages (from scikit-image) (1.15.2)\n",
            "Requirement already satisfied: networkx>=3.0 in ./venv/lib/python3.13/site-packages (from scikit-image) (3.4.2)\n",
            "Requirement already satisfied: pillow>=10.1 in ./venv/lib/python3.13/site-packages (from scikit-image) (11.1.0)\n",
            "Requirement already satisfied: imageio!=2.35.0,>=2.33 in ./venv/lib/python3.13/site-packages (from scikit-image) (2.37.0)\n",
            "Requirement already satisfied: tifffile>=2022.8.12 in ./venv/lib/python3.13/site-packages (from scikit-image) (2025.2.18)\n",
            "Requirement already satisfied: packaging>=21 in ./venv/lib/python3.13/site-packages (from scikit-image) (24.2)\n",
            "Requirement already satisfied: lazy-loader>=0.4 in ./venv/lib/python3.13/site-packages (from scikit-image) (0.4)\n"
          ]
        }
      ],
      "source": [
        "!pip install scikit-image"
      ]
    },
    {
      "cell_type": "code",
      "execution_count": 2,
      "metadata": {
        "id": "TYXFADK1UvbW"
      },
      "outputs": [],
      "source": [
        "dataset_path = \"/Users/nishantdalal/Downloads/extracted_dataset\""
      ]
    },
    {
      "cell_type": "code",
      "execution_count": 3,
      "metadata": {
        "id": "LpjwHwSCSQPy"
      },
      "outputs": [],
      "source": [
        "import os\n",
        "import cv2\n",
        "import numpy as np\n",
        "import matplotlib.pyplot as plt\n",
        "import seaborn as sns\n",
        "from tqdm import tqdm\n",
        "\n",
        "from sklearn.model_selection import train_test_split, GridSearchCV\n",
        "from sklearn.preprocessing import StandardScaler\n",
        "from sklearn.svm import SVC\n",
        "from sklearn.metrics import confusion_matrix, classification_report\n",
        "from skimage.feature import hog"
      ]
    },
    {
      "cell_type": "code",
      "execution_count": 4,
      "metadata": {
        "id": "sjbyqtCSSSDB"
      },
      "outputs": [],
      "source": [
        "def extract_features(img):\n",
        "    img_resized = cv2.resize(img, (64, 64))\n",
        "\n",
        "    hu = cv2.HuMoments(cv2.moments(img_resized)).flatten()\n",
        "    hog_features = hog(img_resized,\n",
        "                       orientations=9,\n",
        "                       pixels_per_cell=(8, 8),\n",
        "                       cells_per_block=(2, 2),\n",
        "                       block_norm='L2-Hys',\n",
        "                       visualize=False)\n",
        "\n",
        "    return np.concatenate([hu, hog_features])"
      ]
    },
    {
      "cell_type": "code",
      "execution_count": 5,
      "metadata": {
        "colab": {
          "base_uri": "https://localhost:8080/"
        },
        "id": "iIryRgmeSUdK",
        "outputId": "574dd562-2046-4102-bc09-6b6c0041689d"
      },
      "outputs": [
        {
          "name": "stderr",
          "output_type": "stream",
          "text": [
            "Processing 0: 100%|██████████| 7458/7458 [00:05<00:00, 1469.30it/s]\n",
            "Processing 1: 100%|██████████| 7458/7458 [00:06<00:00, 1192.73it/s]\n"
          ]
        },
        {
          "name": "stdout",
          "output_type": "stream",
          "text": [
            "Dataset Loaded. Total Samples: 14916  | Feature Length: 1771\n"
          ]
        }
      ],
      "source": [
        "def load_images_with_features(folder, label):\n",
        "    data, labels = [], []\n",
        "    for filename in tqdm(os.listdir(folder), desc=f\"Processing {label}\"):\n",
        "        img_path = os.path.join(folder, filename)\n",
        "        img = cv2.imread(img_path, cv2.IMREAD_GRAYSCALE)\n",
        "        if img is not None:\n",
        "            features = extract_features(img)\n",
        "            data.append(features)\n",
        "            labels.append(label)\n",
        "    return data, labels\n",
        "\n",
        "forged_path = os.path.join(dataset_path, 'forged')\n",
        "genuine_path = os.path.join(dataset_path, 'genuine')\n",
        "\n",
        "forged_data, forged_labels = load_images_with_features(forged_path, 0)\n",
        "genuine_data, genuine_labels = load_images_with_features(genuine_path, 1)\n",
        "\n",
        "X = np.array(forged_data + genuine_data)\n",
        "y = np.array(forged_labels + genuine_labels)\n",
        "\n",
        "print(\"Dataset Loaded. Total Samples:\", X.shape[0], \" | Feature Length:\", X.shape[1])"
      ]
    },
    {
      "cell_type": "code",
      "execution_count": 6,
      "metadata": {
        "id": "w1w1iVknSzDt"
      },
      "outputs": [],
      "source": [
        "X_train, X_test, y_train, y_test = train_test_split(X, y, test_size=0.2, random_state=42)\n",
        "\n",
        "scaler = StandardScaler()\n",
        "X_train_scaled = scaler.fit_transform(X_train)\n",
        "X_test_scaled = scaler.transform(X_test)"
      ]
    },
    {
      "cell_type": "code",
      "execution_count": 8,
      "metadata": {
        "colab": {
          "base_uri": "https://localhost:8080/",
          "height": 454
        },
        "id": "BMleLS5hS1tQ",
        "outputId": "9942983e-f7d2-4f24-b268-1c09f16711ec"
      },
      "outputs": [
        {
          "name": "stdout",
          "output_type": "stream",
          "text": [
            "Starting Fast Grid Search...\n",
            "Total combinations to try: 8\n",
            "Expected fits (with 2-fold CV): 16\n",
            "\n",
            "Fitting 2 folds for each of 8 candidates, totalling 16 fits\n",
            "[CV] END .......................C=1, gamma=scale, kernel=rbf; total time= 2.4min\n",
            "[CV] END .......................C=1, gamma=scale, kernel=rbf; total time= 2.5min\n",
            "[CV] END ........................C=1, gamma=0.01, kernel=rbf; total time= 2.5min\n",
            "[CV] END ........................C=1, gamma=0.01, kernel=rbf; total time= 2.5min\n",
            "[CV] END ......................C=10, gamma=scale, kernel=rbf; total time= 1.8min\n",
            "[CV] END ......................C=10, gamma=scale, kernel=rbf; total time= 1.8min\n",
            "[CV] END .......................C=10, gamma=0.01, kernel=rbf; total time= 1.4min\n",
            "[CV] END .......................C=10, gamma=0.01, kernel=rbf; total time= 1.5min\n",
            "[CV] END .....................C=1, gamma=0.01, kernel=linear; total time=25.0min\n",
            "[CV] END ....................C=1, gamma=scale, kernel=linear; total time=25.0min\n",
            "[CV] END .....................C=1, gamma=0.01, kernel=linear; total time=25.9min\n",
            "[CV] END ....................C=1, gamma=scale, kernel=linear; total time=25.9min\n"
          ]
        }
      ],
      "source": [
        "from sklearn.model_selection import GridSearchCV\n",
        "from sklearn.svm import SVC\n",
        "import pandas as pd\n",
        "import time\n",
        "\n",
        "# simplified hyperparameter space\n",
        "params = {\n",
        "    'C': [1, 10],\n",
        "    'gamma': ['scale', 0.01],\n",
        "    'kernel': ['rbf', 'linear']\n",
        "}\n",
        "\n",
        "# 2 C × 2 gamma × 2 kernel = 8 combinations × 2 folds = 16 fits\n",
        "total_combos = len(params['C']) * len(params['gamma']) * len(params['kernel'])\n",
        "\n",
        "print(\"Starting Fast Grid Search...\")\n",
        "print(f\"Total combinations to try: {total_combos}\")\n",
        "print(f\"Expected fits (with 2-fold CV): {total_combos * 2}\\n\")\n",
        "\n",
        "start_time = time.time()\n",
        "\n",
        "# faster Grid Search\n",
        "grid = GridSearchCV(\n",
        "    estimator=SVC(),\n",
        "    param_grid=params,\n",
        "    cv=2,\n",
        "    verbose=2,\n",
        "    n_jobs=-1,\n",
        "    return_train_score=True\n",
        ")\n",
        "\n",
        "grid.fit(X_train_scaled, y_train)\n",
        "\n",
        "end_time = time.time()\n",
        "elapsed_minutes = (end_time - start_time) / 60\n",
        "\n",
        "print(f\"\\nGrid Search Complete in {elapsed_minutes:.2f} minutes.\")\n",
        "print(\"Best Parameters:\", grid.best_params_)\n",
        "\n",
        "# best model\n",
        "svm_best = grid.best_estimator_\n",
        "\n",
        "# results DataFrame\n",
        "results_df = pd.DataFrame(grid.cv_results_)\n",
        "results_df_sorted = results_df.sort_values(by='mean_test_score', ascending=False)\n",
        "\n",
        "# display top 5 configurations\n",
        "print(\"\\nTop 5 Configurations:\")\n",
        "try:\n",
        "    from IPython.display import display\n",
        "    display(results_df_sorted[['param_C', 'param_gamma', 'param_kernel', 'mean_test_score', 'mean_train_score']].head(5))\n",
        "except ImportError:\n",
        "    print(results_df_sorted[['param_C', 'param_gamma', 'param_kernel', 'mean_test_score', 'mean_train_score']].head(5))"
      ]
    },
    {
      "cell_type": "code",
      "execution_count": 11,
      "metadata": {
        "colab": {
          "base_uri": "https://localhost:8080/"
        },
        "id": "vizUSVAeTddn",
        "outputId": "709ea796-252d-479c-84b8-12e75da09b42"
      },
      "outputs": [
        {
          "name": "stdout",
          "output_type": "stream",
          "text": [
            "Confusion Matrix:\n",
            " [[27  1]\n",
            " [ 1 29]]\n",
            "\n",
            "Classification Report:\n",
            "              precision    recall  f1-score   support\n",
            "\n",
            "      Forged       0.96      0.96      0.96        28\n",
            "     Genuine       0.97      0.97      0.97        30\n",
            "\n",
            "    accuracy                           0.97        58\n",
            "   macro avg       0.97      0.97      0.97        58\n",
            "weighted avg       0.97      0.97      0.97        58\n",
            "\n"
          ]
        }
      ],
      "source": [
        "y_pred = svm_best.predict(X_test_scaled)\n",
        "\n",
        "print(\"Confusion Matrix:\\n\", confusion_matrix(y_test, y_pred))\n",
        "print(\"\\nClassification Report:\")\n",
        "print(classification_report(y_test, y_pred, target_names=[\"Forged\", \"Genuine\"]))"
      ]
    },
    {
      "cell_type": "code",
      "execution_count": 12,
      "metadata": {
        "colab": {
          "base_uri": "https://localhost:8080/",
          "height": 507
        },
        "id": "PR1ikVY8Tg1U",
        "outputId": "df1b5e14-09d9-4fb8-fa42-1704f60f3877"
      },
      "outputs": [
        {
          "data": {
            "image/png": "[encoded data removed]",
            "text/plain": [
              "<Figure size 600x500 with 2 Axes>"
            ]
          },
          "metadata": {},
          "output_type": "display_data"
        }
      ],
      "source": [
        "cm = confusion_matrix(y_test, y_pred)\n",
        "\n",
        "plt.figure(figsize=(6, 5))\n",
        "sns.heatmap(cm, annot=True, fmt='d', cmap='Blues',\n",
        "            xticklabels=[\"Forged\", \"Genuine\"],\n",
        "            yticklabels=[\"Forged\", \"Genuine\"])\n",
        "plt.title(\"Confusion Matrix\")\n",
        "plt.xlabel(\"Predicted\")\n",
        "plt.ylabel(\"Actual\")\n",
        "plt.tight_layout()\n",
        "plt.show()"
      ]
    },
    {
      "cell_type": "code",
      "execution_count": 13,
      "metadata": {
        "id": "UBt-uTmTUOL7"
      },
      "outputs": [],
      "source": [
        "import joblib"
      ]
    },
    {
      "cell_type": "code",
      "execution_count": 14,
      "metadata": {
        "colab": {
          "base_uri": "https://localhost:8080/"
        },
        "id": "z8LqsHJ8biMh",
        "outputId": "1488677f-e208-4edd-9922-731e270f9038"
      },
      "outputs": [
        {
          "data": {
            "text/plain": [
              "['model1.pkl']"
            ]
          },
          "execution_count": 14,
          "metadata": {},
          "output_type": "execute_result"
        }
      ],
      "source": [
        "joblib.dump(svm_best, \"model1.pkl\")"
      ]
    },
    {
      "cell_type": "code",
      "execution_count": 15,
      "metadata": {
        "colab": {
          "base_uri": "https://localhost:8080/"
        },
        "id": "ayr57krnbk3P",
        "outputId": "87e1cba7-9649-4b1b-cd94-beb48bdceb55"
      },
      "outputs": [
        {
          "data": {
            "text/plain": [
              "['scaler1.pkl']"
            ]
          },
          "execution_count": 15,
          "metadata": {},
          "output_type": "execute_result"
        }
      ],
      "source": [
        "joblib.dump(scaler, \"scaler1.pkl\")"
      ]
    },
    {
      "cell_type": "code",
      "execution_count": 16,
      "metadata": {
        "colab": {
          "base_uri": "https://localhost:8080/",
          "height": 17
        },
        "id": "mFxGZOmobmj1",
        "outputId": "8e084835-7d4c-4b91-df63-b63cda97ec44"
      },
      "outputs": [
        {
          "data": {
            "application/javascript": "\n    async function download(id, filename, size) {\n      if (!google.colab.kernel.accessAllowed) {\n        return;\n      }\n      const div = document.createElement('div');\n      const label = document.createElement('label');\n      label.textContent = `Downloading \"${filename}\": `;\n      div.appendChild(label);\n      const progress = document.createElement('progress');\n      progress.max = size;\n      div.appendChild(progress);\n      document.body.appendChild(div);\n\n      const buffers = [];\n      let downloaded = 0;\n\n      const channel = await google.colab.kernel.comms.open(id);\n      // Send a message to notify the kernel that we're ready.\n      channel.send({})\n\n      for await (const message of channel.messages) {\n        // Send a message to notify the kernel that we're ready.\n        channel.send({})\n        if (message.buffers) {\n          for (const buffer of message.buffers) {\n            buffers.push(buffer);\n            downloaded += buffer.byteLength;\n            progress.value = downloaded;\n          }\n        }\n      }\n      const blob = new Blob(buffers, {type: 'application/binary'});\n      const a = document.createElement('a');\n      a.href = window.URL.createObjectURL(blob);\n      a.download = filename;\n      div.appendChild(a);\n      a.click();\n      div.remove();\n    }\n  ",
            "text/plain": [
              "<IPython.core.display.Javascript object>"
            ]
          },
          "metadata": {},
          "output_type": "display_data"
        },
        {
          "data": {
            "application/javascript": "download(\"download_36c8a60c-60c2-4bb3-926c-395980e511bf\", \"model1.pkl\", 3052059)",
            "text/plain": [
              "<IPython.core.display.Javascript object>"
            ]
          },
          "metadata": {},
          "output_type": "display_data"
        },
        {
          "data": {
            "application/javascript": "\n    async function download(id, filename, size) {\n      if (!google.colab.kernel.accessAllowed) {\n        return;\n      }\n      const div = document.createElement('div');\n      const label = document.createElement('label');\n      label.textContent = `Downloading \"${filename}\": `;\n      div.appendChild(label);\n      const progress = document.createElement('progress');\n      progress.max = size;\n      div.appendChild(progress);\n      document.body.appendChild(div);\n\n      const buffers = [];\n      let downloaded = 0;\n\n      const channel = await google.colab.kernel.comms.open(id);\n      // Send a message to notify the kernel that we're ready.\n      channel.send({})\n\n      for await (const message of channel.messages) {\n        // Send a message to notify the kernel that we're ready.\n        channel.send({})\n        if (message.buffers) {\n          for (const buffer of message.buffers) {\n            buffers.push(buffer);\n            downloaded += buffer.byteLength;\n            progress.value = downloaded;\n          }\n        }\n      }\n      const blob = new Blob(buffers, {type: 'application/binary'});\n      const a = document.createElement('a');\n      a.href = window.URL.createObjectURL(blob);\n      a.download = filename;\n      div.appendChild(a);\n      a.click();\n      div.remove();\n    }\n  ",
            "text/plain": [
              "<IPython.core.display.Javascript object>"
            ]
          },
          "metadata": {},
          "output_type": "display_data"
        },
        {
          "data": {
            "application/javascript": "download(\"download_f22fff0a-d012-4f12-ad88-196b3a425207\", \"scaler1.pkl\", 43103)",
            "text/plain": [
              "<IPython.core.display.Javascript object>"
            ]
          },
          "metadata": {},
          "output_type": "display_data"
        }
      ],
      "source": [
        "from google.colab import files\n",
        "files.download(\"model1.pkl\")\n",
        "files.download(\"scaler1.pkl\")"
      ]
    },
    {
      "cell_type": "code",
      "execution_count": null,
      "metadata": {
        "id": "fQ0trSg8bvKV"
      },
      "outputs": [],
      "source": []
    }
  ],
  "metadata": {
    "accelerator": "GPU",
    "colab": {
      "gpuType": "T4",
      "provenance": []
    },
    "kernelspec": {
      "display_name": "venv",
      "language": "python",
      "name": "python3"
    },
    "language_info": {
      "codemirror_mode": {
        "name": "ipython",
        "version": 3
      },
      "file_extension": ".py",
      "mimetype": "text/x-python",
      "name": "python",
      "nbconvert_exporter": "python",
      "pygments_lexer": "ipython3",
      "version": "3.13.2"
    }
  },
  "nbformat": 4,
  "nbformat_minor": 0
}
