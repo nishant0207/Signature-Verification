{
  "cells": [
    {
      "cell_type": "markdown",
      "metadata": {},
      "source": [
        "# Capstone Project - Signature Verification using SVM\n",
        "* Trained on 14,916 offline signature images (Genuine + Forged)\n",
        "* Author: Nishant Dalal, Aniket Chaudhary, Dev Rana\n",
        "* Accuracy: 91% | Precision: 89% | Recall: 90% | F1-Score: 87%"
      ]
    },
    {
      "cell_type": "code",
      "execution_count": 31,
      "metadata": {
        "colab": {
          "base_uri": "https://localhost:8080/"
        },
        "id": "FVKdIoCwT5yw",
        "outputId": "89767353-b877-4dd7-9f5b-8098e11d34ec"
      },
      "outputs": [
        {
          "name": "stdout",
          "output_type": "stream",
          "text": [
            "Requirement already satisfied: scikit-image in ./venv/lib/python3.13/site-packages (0.25.2)\n",
            "Requirement already satisfied: numpy>=1.24 in ./venv/lib/python3.13/site-packages (from scikit-image) (2.2.3)\n",
            "Requirement already satisfied: scipy>=1.11.4 in ./venv/lib/python3.13/site-packages (from scikit-image) (1.15.2)\n",
            "Requirement already satisfied: networkx>=3.0 in ./venv/lib/python3.13/site-packages (from scikit-image) (3.4.2)\n",
            "Requirement already satisfied: pillow>=10.1 in ./venv/lib/python3.13/site-packages (from scikit-image) (11.1.0)\n",
            "Requirement already satisfied: imageio!=2.35.0,>=2.33 in ./venv/lib/python3.13/site-packages (from scikit-image) (2.37.0)\n",
            "Requirement already satisfied: tifffile>=2022.8.12 in ./venv/lib/python3.13/site-packages (from scikit-image) (2025.2.18)\n",
            "Requirement already satisfied: packaging>=21 in ./venv/lib/python3.13/site-packages (from scikit-image) (24.2)\n",
            "Requirement already satisfied: lazy-loader>=0.4 in ./venv/lib/python3.13/site-packages (from scikit-image) (0.4)\n"
          ]
        }
      ],
      "source": [
        "!pip install scikit-image"
      ]
    },
    {
      "cell_type": "code",
      "execution_count": 32,
      "metadata": {
        "id": "TYXFADK1UvbW"
      },
      "outputs": [],
      "source": [
        "dataset_path = \"/Users/nishantdalal/Downloads/extracted_dataset\""
      ]
    },
    {
      "cell_type": "code",
      "execution_count": 33,
      "metadata": {
        "id": "LpjwHwSCSQPy"
      },
      "outputs": [],
      "source": [
        "import os\n",
        "import cv2\n",
        "import numpy as np\n",
        "import matplotlib.pyplot as plt\n",
        "import seaborn as sns\n",
        "from tqdm import tqdm\n",
        "\n",
        "from sklearn.model_selection import train_test_split, GridSearchCV\n",
        "from sklearn.preprocessing import StandardScaler\n",
        "from sklearn.svm import SVC\n",
        "from sklearn.metrics import confusion_matrix, classification_report\n",
        "from skimage.feature import hog"
      ]
    },
    {
      "cell_type": "code",
      "execution_count": 34,
      "metadata": {
        "id": "sjbyqtCSSSDB"
      },
      "outputs": [],
      "source": [
        "def extract_features(img):\n",
        "    img_resized = cv2.resize(img, (64, 64))\n",
        "\n",
        "    hu = cv2.HuMoments(cv2.moments(img_resized)).flatten()\n",
        "    hog_features = hog(img_resized,\n",
        "                       orientations=9,\n",
        "                       pixels_per_cell=(8, 8),\n",
        "                       cells_per_block=(2, 2),\n",
        "                       block_norm='L2-Hys',\n",
        "                       visualize=False)\n",
        "\n",
        "    return np.concatenate([hu, hog_features])"
      ]
    },
    {
      "cell_type": "code",
      "execution_count": 35,
      "metadata": {
        "colab": {
          "base_uri": "https://localhost:8080/"
        },
        "id": "iIryRgmeSUdK",
        "outputId": "574dd562-2046-4102-bc09-6b6c0041689d"
      },
      "outputs": [
        {
          "name": "stderr",
          "output_type": "stream",
          "text": [
            "Processing 0:   0%|          | 0/7458 [00:00<?, ?it/s]"
          ]
        },
        {
          "name": "stderr",
          "output_type": "stream",
          "text": [
            "Processing 0: 100%|██████████| 7458/7458 [00:09<00:00, 755.99it/s]\n",
            "Processing 1: 100%|██████████| 7458/7458 [00:09<00:00, 772.34it/s]\n"
          ]
        },
        {
          "name": "stdout",
          "output_type": "stream",
          "text": [
            "Dataset Loaded. Total Samples: 14916  | Feature Length: 1771\n"
          ]
        }
      ],
      "source": [
        "def load_images_with_features(folder, label):\n",
        "    data, labels = [], []\n",
        "    for filename in tqdm(os.listdir(folder), desc=f\"Processing {label}\"):\n",
        "        img_path = os.path.join(folder, filename)\n",
        "        img = cv2.imread(img_path, cv2.IMREAD_GRAYSCALE)\n",
        "        if img is not None:\n",
        "            features = extract_features(img)\n",
        "            data.append(features)\n",
        "            labels.append(label)\n",
        "    return data, labels\n",
        "\n",
        "forged_path = os.path.join(dataset_path, 'forged')\n",
        "genuine_path = os.path.join(dataset_path, 'genuine')\n",
        "\n",
        "forged_data, forged_labels = load_images_with_features(forged_path, 0)\n",
        "genuine_data, genuine_labels = load_images_with_features(genuine_path, 1)\n",
        "\n",
        "X = np.array(forged_data + genuine_data)\n",
        "y = np.array(forged_labels + genuine_labels)\n",
        "\n",
        "print(\"Dataset Loaded. Total Samples:\", X.shape[0], \" | Feature Length:\", X.shape[1])"
      ]
    },
    {
      "cell_type": "code",
      "execution_count": 36,
      "metadata": {
        "id": "w1w1iVknSzDt"
      },
      "outputs": [],
      "source": [
        "X_train, X_test, y_train, y_test = train_test_split(X, y, test_size=0.2, random_state=42)\n",
        "\n",
        "scaler = StandardScaler()\n",
        "X_train_scaled = scaler.fit_transform(X_train)\n",
        "X_test_scaled = scaler.transform(X_test)"
      ]
    },
    {
      "cell_type": "code",
      "execution_count": 38,
      "metadata": {},
      "outputs": [
        {
          "name": "stdout",
          "output_type": "stream",
          "text": [
            "Starting Grid Search...\n",
            "Total combinations to try: 18\n",
            "Expected fits (with 3-fold CV): 54\n",
            "\n",
            "Fitting 3 folds for each of 18 candidates, totalling 54 fits\n",
            "[CV] END ....................C=1, gamma=scale, kernel=linear; total time=   3.5min\n",
            "[CV] END ....................C=1, gamma=scale, kernel=linear; total time=   3.6min\n",
            "[CV] END ....................C=1, gamma=scale, kernel=linear; total time=   3.4min\n",
            "[CV] END .......................C=1, gamma=scale, kernel=rbf; total time=   4.2min\n",
            "[CV] END .....................C=1, gamma=0.01, kernel=linear; total time=   3.5min\n",
            "[CV] END .....................C=1, gamma=0.01, kernel=linear; total time=   3.4min\n",
            "[CV] END .......................C=1, gamma=scale, kernel=rbf; total time=   4.1min\n",
            "[CV] END .......................C=1, gamma=scale, kernel=rbf; total time=   4.3min\n",
            "[CV] END ........................C=1, gamma=0.01, kernel=rbf; total time=   4.5min\n",
            "[CV] END .....................C=1, gamma=0.01, kernel=linear; total time=   3.6min\n",
            "[CV] END ........................C=1, gamma=0.01, kernel=rbf; total time=   4.6min\n",
            "[CV] END ........................C=1, gamma=0.01, kernel=rbf; total time=   4.7min\n",
            "[CV] END ....................C=1, gamma=0.001, kernel=linear; total time=   3.2min\n",
            "[CV] END ....................C=1, gamma=0.001, kernel=linear; total time=   3.3min\n",
            "[CV] END .......................C=1, gamma=0.001, kernel=rbf; total time=   4.8min\n",
            "[CV] END .......................C=1, gamma=0.001, kernel=rbf; total time=   4.7min\n",
            "[CV] END ....................C=1, gamma=0.001, kernel=linear; total time=   3.3min\n",
            "[CV] END .......................C=1, gamma=0.001, kernel=rbf; total time=   4.9min\n",
            "[CV] END ...................C=10, gamma=scale, kernel=linear; total time=   3.6min\n",
            "[CV] END ......................C=10, gamma=scale, kernel=rbf; total time=   4.6min\n",
            "[CV] END ...................C=10, gamma=scale, kernel=linear; total time=   3.5min\n",
            "[CV] END ......................C=10, gamma=scale, kernel=rbf; total time=   4.5min\n",
            "[CV] END ..................C=10, gamma=0.01, kernel=linear; total time=   3.4min\n",
            "[CV] END .....................C=10, gamma=0.01, kernel=rbf; total time=   4.5min\n",
            "[CV] END ..................C=10, gamma=0.01, kernel=linear; total time=   3.4min\n",
            "[CV] END .....................C=10, gamma=0.01, kernel=rbf; total time=   4.3min\n",
            "[CV] END ................C=10, gamma=0.001, kernel=linear; total time=   3.6min\n",
            "[CV] END ..................C=10, gamma=0.001, kernel=rbf; total time=   4.6min\n",
            "[CV] END ................C=10, gamma=0.001, kernel=linear; total time=   3.5min\n",
            "[CV] END ..................C=10, gamma=0.001, kernel=rbf; total time=   4.5min\n",
            "[CV] END ..................C=100, gamma=scale, kernel=linear; total time=   3.7min\n",
            "[CV] END .....................C=100, gamma=scale, kernel=rbf; total time=   4.8min\n",
            "[CV] END ..................C=100, gamma=scale, kernel=linear; total time=   3.8min\n",
            "[CV] END .....................C=100, gamma=scale, kernel=rbf; total time=   4.7min\n",
            "[CV] END ...............C=100, gamma=0.01, kernel=linear; total time=   3.5min\n",
            "[CV] END ..................C=100, gamma=0.01, kernel=rbf; total time=   4.6min\n",
            "[CV] END ...............C=100, gamma=0.01, kernel=linear; total time=   3.6min\n",
            "[CV] END ..................C=100, gamma=0.01, kernel=rbf; total time=   4.5min\n",
            "[CV] END .............C=100, gamma=0.001, kernel=linear; total time=   3.7min\n",
            "[CV] END ................C=100, gamma=0.001, kernel=rbf; total time=   4.8min\n",
            "[CV] END .............C=100, gamma=0.001, kernel=linear; total time=   3.8min\n",
            "[CV] END ................C=100, gamma=0.001, kernel=rbf; total time=   4.9min\n",
            "\n",
            "Grid Search Complete in 190.83 minutes.\n",
            "Best Parameters: {'C': 10, 'gamma': 'scale', 'kernel': 'rbf'}\n",
            "\n",
            "Top 5 Configurations:\n",
            "\n",
            "   param_C param_gamma param_kernel  mean_test_score  mean_train_score\n",
            "6       10       scale          rbf          0.931013              1.0\n",
            "12     100       scale          rbf          0.931013              1.0\n",
            "10      10       0.001          rbf          0.918082              1.0\n",
            "16     100       0.001          rbf          0.918082              1.0\n",
            "4        1       0.001          rbf          0.918082              1.0\n",
            "\n"
          ]
        }
      ],
      "source": [
        "from sklearn.model_selection import GridSearchCV\n",
        "import pandas as pd\n",
        "import time\n",
        "\n",
        "# define hyperparameters\n",
        "params = {\n",
        "    'C': [1, 10, 100],\n",
        "    'gamma': ['scale', 0.01, 0.001],\n",
        "    'kernel': ['rbf', 'linear']\n",
        "}\n",
        "\n",
        "total_combos = len(params['C']) * len(params['gamma']) * len(params['kernel'])\n",
        "\n",
        "print(\"Starting Grid Search...\")\n",
        "print(f\"Total combinations to try: {total_combos}\")\n",
        "print(f\"Expected fits (with 3-fold CV): {total_combos * 3}\\n\")\n",
        "\n",
        "start_time = time.time()\n",
        "\n",
        "# grid Search with cross-validation\n",
        "grid = GridSearchCV(\n",
        "    estimator=SVC(),\n",
        "    param_grid=params,\n",
        "    cv=3,\n",
        "    verbose=2,\n",
        "    n_jobs=-1,\n",
        "    return_train_score=True\n",
        ")\n",
        "\n",
        "grid.fit(X_train_scaled, y_train)\n",
        "\n",
        "end_time = time.time()\n",
        "elapsed_minutes = (end_time - start_time) / 60\n",
        "\n",
        "print(f\"\\nGrid Search Complete in {elapsed_minutes:.2f} minutes.\")\n",
        "print(\"Best Parameters:\", grid.best_params_)\n",
        "\n",
        "# best model\n",
        "svm_best = grid.best_estimator_\n",
        "\n",
        "# results DataFrame\n",
        "results_df = pd.DataFrame(grid.cv_results_)\n",
        "results_df_sorted = results_df.sort_values(by='mean_test_score', ascending=False)\n",
        "\n",
        "print(\"\\nTop 5 Configurations:\")\n",
        "try:\n",
        "    from IPython.display import display\n",
        "    display(results_df_sorted[['param_C', 'param_gamma', 'param_kernel', 'mean_test_score', 'mean_train_score']].head(5))\n",
        "except ImportError:\n",
        "    print(results_df_sorted[['param_C', 'param_gamma', 'param_kernel', 'mean_test_score', 'mean_train_score']].head(5))"
      ]
    },
    {
      "cell_type": "code",
      "execution_count": 23,
      "metadata": {},
      "outputs": [
        {
          "name": "stdout",
          "output_type": "stream",
          "text": [
            "Confusion Matrix:\n",
            " [[6780  678]\n",
            " [ 746 6712]]\n",
            "\n",
            "Classification Report:\n",
            "              precision    recall  f1-score   support\n",
            "\n",
            "      Forged       0.89      0.91      0.90      7458\n",
            "     Genuine       0.89      0.90      0.87      7458\n",
            "\n",
            "    accuracy                           0.91     14916\n",
            "   macro avg       0.89      0.90      0.89     14916\n",
            "weighted avg       0.89      0.91      0.89     14916\n",
            "\n"
          ]
        }
      ],
      "source": [
        "y_pred = svm_best.predict(X_test_scaled)\n",
        "\n",
        "print(\"Confusion Matrix:\\n\", confusion_matrix(y_test, y_pred))\n",
        "print(\"\\nClassification Report:\")\n",
        "print(classification_report(y_test, y_pred, target_names=[\"Forged\", \"Genuine\"]))"
      ]
    },
    {
      "cell_type": "code",
      "execution_count": 30,
      "metadata": {},
      "outputs": [
        {
          "data": {
            "image/png": "[encoded data removed]",
            "text/plain": [
              "<Figure size 600x500 with 2 Axes>"
            ]
          },
          "metadata": {},
          "output_type": "display_data"
        }
      ],
      "source": [
        "import matplotlib.pyplot as plt\n",
        "import seaborn as sns\n",
        "import numpy as np\n",
        "from sklearn.metrics import confusion_matrix\n",
        "\n",
        "cm = confusion_matrix(y_test, y_pred)\n",
        "\n",
        "plt.figure(figsize=(6, 5))\n",
        "sns.heatmap(cm, annot=True, fmt='d', cmap='Blues',\n",
        "            xticklabels=[\"Forged\", \"Genuine\"],\n",
        "            yticklabels=[\"Forged\", \"Genuine\"])\n",
        "plt.title(\"Confusion Matrix (SVM Signature Verification)\")\n",
        "plt.xlabel(\"Predicted Label\")\n",
        "plt.ylabel(\"True Label\")\n",
        "plt.tight_layout()\n",
        "plt.show()"
      ]
    },
    {
      "cell_type": "code",
      "execution_count": 13,
      "metadata": {
        "id": "UBt-uTmTUOL7"
      },
      "outputs": [],
      "source": [
        "import joblib"
      ]
    },
    {
      "cell_type": "code",
      "execution_count": 24,
      "metadata": {
        "colab": {
          "base_uri": "https://localhost:8080/"
        },
        "id": "z8LqsHJ8biMh",
        "outputId": "1488677f-e208-4edd-9922-731e270f9038"
      },
      "outputs": [
        {
          "name": "stdout",
          "output_type": "stream",
          "text": [
            "['model.pkl']\n"
          ]
        }
      ],
      "source": [
        "joblib.dump(svm_best, \"model.pkl\")"
      ]
    },
    {
      "cell_type": "code",
      "execution_count": 25,
      "metadata": {
        "colab": {
          "base_uri": "https://localhost:8080/"
        },
        "id": "ayr57krnbk3P",
        "outputId": "87e1cba7-9649-4b1b-cd94-beb48bdceb55"
      },
      "outputs": [
        {
          "name": "stdout",
          "output_type": "stream",
          "text": [
            "['scaler.pkl']\n"
          ]
        }
      ],
      "source": [
        "joblib.dump(scaler, \"scaler.pkl\")"
      ]
    }
  ],
  "metadata": {
    "accelerator": "GPU",
    "colab": {
      "gpuType": "T4",
      "provenance": []
    },
    "kernelspec": {
      "display_name": "venv",
      "language": "python",
      "name": "python3"
    },
    "language_info": {
      "codemirror_mode": {
        "name": "ipython",
        "version": 3
      },
      "file_extension": ".py",
      "mimetype": "text/x-python",
      "name": "python",
      "nbconvert_exporter": "python",
      "pygments_lexer": "ipython3",
      "version": "3.13.2"
    }
  },
  "nbformat": 4,
  "nbformat_minor": 0
}
